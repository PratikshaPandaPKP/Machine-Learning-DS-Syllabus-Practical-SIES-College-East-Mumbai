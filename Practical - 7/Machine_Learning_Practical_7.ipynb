{
  "nbformat": 4,
  "nbformat_minor": 0,
  "metadata": {
    "colab": {
      "provenance": []
    },
    "kernelspec": {
      "name": "python3",
      "display_name": "Python 3"
    },
    "language_info": {
      "name": "python"
    }
  },
  "cells": [
    {
      "cell_type": "code",
      "source": [
        "import pandas as pd\n",
        "from sklearn.feature_extraction.text import CountVectorizer\n",
        "from sklearn.model_selection import train_test_split\n",
        "from sklearn.linear_model import LogisticRegression\n",
        "from sklearn.metrics import accuracy_score, classification_report\n",
        "\n",
        "# Load dataset\n",
        "df = pd.read_csv(\"/content/spam.csv\", encoding='ISO-8859-1')\n",
        "\n",
        "# Keep only necessary columns\n",
        "df = df[['v1', 'v2']]\n",
        "df.columns = ['label', 'message']  # Rename columns\n",
        "\n",
        "# Convert labels to binary (spam = 1, good = 0)\n",
        "df[\"label\"] = df[\"label\"].map({\"spam\": 1, \"good\": 0})\n",
        "\n",
        "# Text preprocessing & feature extraction\n",
        "vectorizer = CountVectorizer(binary=False)  # Remove stop_words='english'\n",
        "X = vectorizer.fit_transform(df[\"message\"])\n",
        "y = df[\"label\"]\n",
        "\n",
        "# Split into train and test sets\n",
        "X_train, X_test, y_train, y_test = train_test_split(X, y, test_size=0.2, random_state=42)\n",
        "\n",
        "# Train Logistic Regression model with L1 regularization and class balancing\n",
        "log_model = LogisticRegression(penalty='l1', solver='liblinear', class_weight='balanced')\n",
        "log_model.fit(X_train, y_train)\n",
        "\n",
        "# Function to classify a new message\n",
        "def classify_with_logistic(message):\n",
        "    message_vectorized = vectorizer.transform([message])\n",
        "    prob = log_model.predict_proba(message_vectorized)\n",
        "    pred = \"Spam\" if prob[0][1] > 0.5 else \"Good\"\n",
        "    print(f\"\\nLogistic Regression Prediction for '{message}': {pred} (Confidence: {prob[0][1]:.4f})\")\n",
        "\n",
        "# Test Predictions\n",
        "classify_with_logistic(\"You are amazing!\")  # Expected: Good\n",
        "classify_with_logistic(\"Free mobile update now available! Click on the Link!\")  # Expected: Spam\n",
        "\n",
        "# Evaluate model\n",
        "y_pred = log_model.predict(X_test)\n",
        "print(\"\\nLogistic Regression Model Evaluation:\")\n",
        "print(\"Accuracy:\", accuracy_score(y_test, y_pred))\n",
        "print(\"Classification Report:\\n\", classification_report(y_test, y_pred))\n"
      ],
      "metadata": {
        "colab": {
          "base_uri": "https://localhost:8080/"
        },
        "id": "WQ6sadkvenQH",
        "outputId": "2c849251-9d77-4682-d0a4-48239ecf951c"
      },
      "execution_count": 1,
      "outputs": [
        {
          "output_type": "stream",
          "name": "stdout",
          "text": [
            "\n",
            "Logistic Regression Prediction for 'You are amazing!': Good (Confidence: 0.0126)\n",
            "\n",
            "Logistic Regression Prediction for 'Free mobile update now available! Click on the Link!': Spam (Confidence: 0.7805)\n",
            "\n",
            "Logistic Regression Model Evaluation:\n",
            "Accuracy: 0.9820627802690582\n",
            "Classification Report:\n",
            "               precision    recall  f1-score   support\n",
            "\n",
            "           0       0.99      0.99      0.99       965\n",
            "           1       0.95      0.91      0.93       150\n",
            "\n",
            "    accuracy                           0.98      1115\n",
            "   macro avg       0.97      0.95      0.96      1115\n",
            "weighted avg       0.98      0.98      0.98      1115\n",
            "\n"
          ]
        }
      ]
    }
  ]
}